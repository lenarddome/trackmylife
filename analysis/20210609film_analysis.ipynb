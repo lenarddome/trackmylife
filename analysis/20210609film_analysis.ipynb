# Film Analysis

OMDB doesn't like english titles all the time, and sometimes it prefers the
original one. This seems to be random. It also happens within a franchise.

Sometimes titles are also inconsistent across databases. For example, the hungarian
move Utazás a koponyám körül (1970) has been translated to 'A journey around
my skull', or 'Trip around my Cranium', even though 'A trip around my skull'
is probably the most appropriate translation - it is my translation.

There were also problems with incomplete information in the my data, which
meant that it threw error for reasons other than the problem with the
title. So there was no other option to sat through all 1760 queries. 
I could have automated it, but I needed to know exactly what was the issue,
so I brewed my coffee and sat down.

```{.python, .input}
```
